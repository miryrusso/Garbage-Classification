{
  "cells": [
    {
      "cell_type": "markdown",
      "metadata": {
        "id": "0HTCivyyKtOK"
      },
      "source": [
        "INTRODUZIONE\n",
        "...\n",
        "\n",
        "INIZIO"
      ]
    },
    {
      "cell_type": "markdown",
      "metadata": {
        "id": "j5r1s6qlHpAM"
      },
      "source": [
        "Avendo svolto questo progetto tramite Google Colab, é stato necessario fare il mounting di un drive e la relativa prepazione delle cartelle e file necessari"
      ]
    },
    {
      "cell_type": "code",
      "execution_count": null,
      "metadata": {
        "colab": {
          "base_uri": "https://localhost:8080/"
        },
        "id": "yuuQXV9JzPNj",
        "outputId": "90bfc0ab-986c-4d03-fd75-0cb83737be65"
      },
      "outputs": [
        {
          "name": "stdout",
          "output_type": "stream",
          "text": [
            "Fri Jul  4 09:51:53 2025       \n",
            "+-----------------------------------------------------------------------------------------+\n",
            "| NVIDIA-SMI 550.54.15              Driver Version: 550.54.15      CUDA Version: 12.4     |\n",
            "|-----------------------------------------+------------------------+----------------------+\n",
            "| GPU  Name                 Persistence-M | Bus-Id          Disp.A | Volatile Uncorr. ECC |\n",
            "| Fan  Temp   Perf          Pwr:Usage/Cap |           Memory-Usage | GPU-Util  Compute M. |\n",
            "|                                         |                        |               MIG M. |\n",
            "|=========================================+========================+======================|\n",
            "|   0  Tesla T4                       Off |   00000000:00:04.0 Off |                    0 |\n",
            "| N/A   53C    P8              9W /   70W |       0MiB /  15360MiB |      0%      Default |\n",
            "|                                         |                        |                  N/A |\n",
            "+-----------------------------------------+------------------------+----------------------+\n",
            "                                                                                         \n",
            "+-----------------------------------------------------------------------------------------+\n",
            "| Processes:                                                                              |\n",
            "|  GPU   GI   CI        PID   Type   Process name                              GPU Memory |\n",
            "|        ID   ID                                                               Usage      |\n",
            "|=========================================================================================|\n",
            "|  No running processes found                                                             |\n",
            "+-----------------------------------------------------------------------------------------+\n"
          ]
        }
      ],
      "source": [
        "# gpu_info = !nvidia-smi\n",
        "# gpu_info = '\\n'.join(gpu_info)\n",
        "# if gpu_info.find('failed') >= 0:\n",
        "#   print('Not connected to a GPU')\n",
        "# else:\n",
        "#   print(gpu_info)"
      ]
    },
    {
      "cell_type": "code",
      "execution_count": null,
      "metadata": {
        "colab": {
          "base_uri": "https://localhost:8080/"
        },
        "id": "IbMNHNdYIh7L",
        "outputId": "c105f507-b0aa-460c-d297-8b6f3646d7ec"
      },
      "outputs": [
        {
          "name": "stdout",
          "output_type": "stream",
          "text": [
            "Mounted at /content/drive\n"
          ]
        }
      ],
      "source": [
        "# Montare Drive\n",
        "from google.colab import drive\n",
        "drive.mount('/content/drive')\n",
        "\n",
        "import os\n",
        "os.makedirs('/content/drive/MyDrive/modelli_garbage', exist_ok=True)\n"
      ]
    },
    {
      "cell_type": "code",
      "execution_count": null,
      "metadata": {
        "id": "zErlwTZwNXk_"
      },
      "outputs": [],
      "source": [
        "!mkdir -p ~/.kaggle\n",
        "!cp /content/drive/MyDrive/modelli_garbage/kaggle.json ~/.kaggle/\n",
        "!chmod 600 ~/.kaggle/kaggle.json\n",
        "!mkdir -p /content/CSV"
      ]
    },
    {
      "cell_type": "code",
      "execution_count": null,
      "metadata": {
        "colab": {
          "base_uri": "https://localhost:8080/"
        },
        "id": "2QBalKBeavg-",
        "outputId": "f55807f4-e13c-4ebe-d994-1cbe93cd8f6f"
      },
      "outputs": [
        {
          "name": "stdout",
          "output_type": "stream",
          "text": [
            "Dataset già presente su Drive.\n"
          ]
        }
      ],
      "source": [
        "import os\n",
        "data_dir = \"/content/drive/MyDrive\"\n",
        "\n",
        "if not os.path.exists(f\"{data_dir}/garbage_dataset\"):\n",
        "    !mkdir -p \"{data_dir}\"\n",
        "    %cd \"{data_dir}\"\n",
        "    !kaggle datasets download -d asdasdasasdas/garbage-classification -q\n",
        "    !unzip -q garbage-classification.zip -d garbage_dataset\n",
        "    print(\"Dataset scaricato e salvato su Drive.\")\n",
        "else:\n",
        "    print(\"Dataset già presente su Drive.\")\n"
      ]
    },
    {
      "cell_type": "markdown",
      "metadata": {
        "id": "K1kcvu-lMEfz"
      },
      "source": [
        "Per prima cosa, avendo a disposizione un dataset i cui dati, nel nostro caso delle immagini, sono divisi per cartelle in base alla classe di appartenenza, assegneremo un label alle immagini in base alla cartella nella quale sono contenuti, secondo un dizionario in linea con il dataset."
      ]
    },
    {
      "cell_type": "code",
      "execution_count": null,
      "metadata": {
        "id": "p6KPsZ0HHR58"
      },
      "outputs": [],
      "source": [
        "def class_from_paths(path):\n",
        "  _, _, _, cl, _ = path.split('/')\n",
        "  return class_dict[cl]"
      ]
    },
    {
      "cell_type": "code",
      "execution_count": null,
      "metadata": {
        "id": "FdQ_n10iQq_n"
      },
      "outputs": [],
      "source": [
        "from glob import glob\n",
        "\n",
        "paths = glob(f'{data_dir}/garbage_dataset/Garbage classification/Garbage classification/*/*')\n",
        "images_paths = [\"/\".join(p.split('/')[4:]) for p in paths]"
      ]
    },
    {
      "cell_type": "code",
      "execution_count": null,
      "metadata": {
        "id": "EmbpAOY0On-a"
      },
      "outputs": [],
      "source": [
        "class_dict = {\n",
        "    'glass': 1,\n",
        "    'paper': 2,\n",
        "    'cardboard': 3,\n",
        "    'plastic': 4,\n",
        "    'metal': 5,\n",
        "    'trash': 6\n",
        "}"
      ]
    },
    {
      "cell_type": "code",
      "execution_count": null,
      "metadata": {
        "colab": {
          "base_uri": "https://localhost:8080/"
        },
        "id": "u6dv3R57Xfus",
        "outputId": "977dffa3-bdfe-447b-f558-46ff21abf54a"
      },
      "outputs": [
        {
          "name": "stdout",
          "output_type": "stream",
          "text": [
            "[3, 3, 3, 3, 3, 3, 3, 3, 3, 3]\n"
          ]
        }
      ],
      "source": [
        "labels = [class_from_paths(im) for im in images_paths]\n",
        "print(labels[:10])"
      ]
    },
    {
      "cell_type": "markdown",
      "metadata": {
        "id": "kITrFuVZM2z8"
      },
      "source": [
        "Fatto ciò, è stato creato una struttura tabellare che associa il path del dato alla corrispondente etichetta."
      ]
    },
    {
      "cell_type": "code",
      "execution_count": null,
      "metadata": {
        "colab": {
          "base_uri": "https://localhost:8080/",
          "height": 363
        },
        "id": "wuZiW1G8cSn-",
        "outputId": "5ccfc902-fc01-4a99-e510-ef51a4ac5981"
      },
      "outputs": [
        {
          "data": {
            "application/vnd.google.colaboratory.intrinsic+json": {
              "summary": "{\n  \"name\": \"dataset[:10]\",\n  \"rows\": 10,\n  \"fields\": [\n    {\n      \"column\": \"path\",\n      \"properties\": {\n        \"dtype\": \"string\",\n        \"num_unique_values\": 10,\n        \"samples\": [\n          \"garbage_dataset/Garbage classification/Garbage classification/cardboard/cardboard104.jpg\",\n          \"garbage_dataset/Garbage classification/Garbage classification/cardboard/cardboard111.jpg\",\n          \"garbage_dataset/Garbage classification/Garbage classification/cardboard/cardboard101.jpg\"\n        ],\n        \"semantic_type\": \"\",\n        \"description\": \"\"\n      }\n    },\n    {\n      \"column\": \"label\",\n      \"properties\": {\n        \"dtype\": \"number\",\n        \"std\": 0,\n        \"min\": 3,\n        \"max\": 3,\n        \"num_unique_values\": 1,\n        \"samples\": [\n          3\n        ],\n        \"semantic_type\": \"\",\n        \"description\": \"\"\n      }\n    }\n  ]\n}",
              "type": "dataframe"
            },
            "text/html": [
              "\n",
              "  <div id=\"df-3a0d1512-7ae7-4d45-ad1d-78ce93cf3121\" class=\"colab-df-container\">\n",
              "    <div>\n",
              "<style scoped>\n",
              "    .dataframe tbody tr th:only-of-type {\n",
              "        vertical-align: middle;\n",
              "    }\n",
              "\n",
              "    .dataframe tbody tr th {\n",
              "        vertical-align: top;\n",
              "    }\n",
              "\n",
              "    .dataframe thead th {\n",
              "        text-align: right;\n",
              "    }\n",
              "</style>\n",
              "<table border=\"1\" class=\"dataframe\">\n",
              "  <thead>\n",
              "    <tr style=\"text-align: right;\">\n",
              "      <th></th>\n",
              "      <th>path</th>\n",
              "      <th>label</th>\n",
              "    </tr>\n",
              "  </thead>\n",
              "  <tbody>\n",
              "    <tr>\n",
              "      <th>0</th>\n",
              "      <td>garbage_dataset/Garbage classification/Garbage...</td>\n",
              "      <td>3</td>\n",
              "    </tr>\n",
              "    <tr>\n",
              "      <th>1</th>\n",
              "      <td>garbage_dataset/Garbage classification/Garbage...</td>\n",
              "      <td>3</td>\n",
              "    </tr>\n",
              "    <tr>\n",
              "      <th>2</th>\n",
              "      <td>garbage_dataset/Garbage classification/Garbage...</td>\n",
              "      <td>3</td>\n",
              "    </tr>\n",
              "    <tr>\n",
              "      <th>3</th>\n",
              "      <td>garbage_dataset/Garbage classification/Garbage...</td>\n",
              "      <td>3</td>\n",
              "    </tr>\n",
              "    <tr>\n",
              "      <th>4</th>\n",
              "      <td>garbage_dataset/Garbage classification/Garbage...</td>\n",
              "      <td>3</td>\n",
              "    </tr>\n",
              "    <tr>\n",
              "      <th>5</th>\n",
              "      <td>garbage_dataset/Garbage classification/Garbage...</td>\n",
              "      <td>3</td>\n",
              "    </tr>\n",
              "    <tr>\n",
              "      <th>6</th>\n",
              "      <td>garbage_dataset/Garbage classification/Garbage...</td>\n",
              "      <td>3</td>\n",
              "    </tr>\n",
              "    <tr>\n",
              "      <th>7</th>\n",
              "      <td>garbage_dataset/Garbage classification/Garbage...</td>\n",
              "      <td>3</td>\n",
              "    </tr>\n",
              "    <tr>\n",
              "      <th>8</th>\n",
              "      <td>garbage_dataset/Garbage classification/Garbage...</td>\n",
              "      <td>3</td>\n",
              "    </tr>\n",
              "    <tr>\n",
              "      <th>9</th>\n",
              "      <td>garbage_dataset/Garbage classification/Garbage...</td>\n",
              "      <td>3</td>\n",
              "    </tr>\n",
              "  </tbody>\n",
              "</table>\n",
              "</div>\n",
              "    <div class=\"colab-df-buttons\">\n",
              "\n",
              "  <div class=\"colab-df-container\">\n",
              "    <button class=\"colab-df-convert\" onclick=\"convertToInteractive('df-3a0d1512-7ae7-4d45-ad1d-78ce93cf3121')\"\n",
              "            title=\"Convert this dataframe to an interactive table.\"\n",
              "            style=\"display:none;\">\n",
              "\n",
              "  <svg xmlns=\"http://www.w3.org/2000/svg\" height=\"24px\" viewBox=\"0 -960 960 960\">\n",
              "    <path d=\"M120-120v-720h720v720H120Zm60-500h600v-160H180v160Zm220 220h160v-160H400v160Zm0 220h160v-160H400v160ZM180-400h160v-160H180v160Zm440 0h160v-160H620v160ZM180-180h160v-160H180v160Zm440 0h160v-160H620v160Z\"/>\n",
              "  </svg>\n",
              "    </button>\n",
              "\n",
              "  <style>\n",
              "    .colab-df-container {\n",
              "      display:flex;\n",
              "      gap: 12px;\n",
              "    }\n",
              "\n",
              "    .colab-df-convert {\n",
              "      background-color: #E8F0FE;\n",
              "      border: none;\n",
              "      border-radius: 50%;\n",
              "      cursor: pointer;\n",
              "      display: none;\n",
              "      fill: #1967D2;\n",
              "      height: 32px;\n",
              "      padding: 0 0 0 0;\n",
              "      width: 32px;\n",
              "    }\n",
              "\n",
              "    .colab-df-convert:hover {\n",
              "      background-color: #E2EBFA;\n",
              "      box-shadow: 0px 1px 2px rgba(60, 64, 67, 0.3), 0px 1px 3px 1px rgba(60, 64, 67, 0.15);\n",
              "      fill: #174EA6;\n",
              "    }\n",
              "\n",
              "    .colab-df-buttons div {\n",
              "      margin-bottom: 4px;\n",
              "    }\n",
              "\n",
              "    [theme=dark] .colab-df-convert {\n",
              "      background-color: #3B4455;\n",
              "      fill: #D2E3FC;\n",
              "    }\n",
              "\n",
              "    [theme=dark] .colab-df-convert:hover {\n",
              "      background-color: #434B5C;\n",
              "      box-shadow: 0px 1px 3px 1px rgba(0, 0, 0, 0.15);\n",
              "      filter: drop-shadow(0px 1px 2px rgba(0, 0, 0, 0.3));\n",
              "      fill: #FFFFFF;\n",
              "    }\n",
              "  </style>\n",
              "\n",
              "    <script>\n",
              "      const buttonEl =\n",
              "        document.querySelector('#df-3a0d1512-7ae7-4d45-ad1d-78ce93cf3121 button.colab-df-convert');\n",
              "      buttonEl.style.display =\n",
              "        google.colab.kernel.accessAllowed ? 'block' : 'none';\n",
              "\n",
              "      async function convertToInteractive(key) {\n",
              "        const element = document.querySelector('#df-3a0d1512-7ae7-4d45-ad1d-78ce93cf3121');\n",
              "        const dataTable =\n",
              "          await google.colab.kernel.invokeFunction('convertToInteractive',\n",
              "                                                    [key], {});\n",
              "        if (!dataTable) return;\n",
              "\n",
              "        const docLinkHtml = 'Like what you see? Visit the ' +\n",
              "          '<a target=\"_blank\" href=https://colab.research.google.com/notebooks/data_table.ipynb>data table notebook</a>'\n",
              "          + ' to learn more about interactive tables.';\n",
              "        element.innerHTML = '';\n",
              "        dataTable['output_type'] = 'display_data';\n",
              "        await google.colab.output.renderOutput(dataTable, element);\n",
              "        const docLink = document.createElement('div');\n",
              "        docLink.innerHTML = docLinkHtml;\n",
              "        element.appendChild(docLink);\n",
              "      }\n",
              "    </script>\n",
              "  </div>\n",
              "\n",
              "\n",
              "    <div id=\"df-31db5837-c30e-4786-8d6f-4d34153b7fc7\">\n",
              "      <button class=\"colab-df-quickchart\" onclick=\"quickchart('df-31db5837-c30e-4786-8d6f-4d34153b7fc7')\"\n",
              "                title=\"Suggest charts\"\n",
              "                style=\"display:none;\">\n",
              "\n",
              "<svg xmlns=\"http://www.w3.org/2000/svg\" height=\"24px\"viewBox=\"0 0 24 24\"\n",
              "     width=\"24px\">\n",
              "    <g>\n",
              "        <path d=\"M19 3H5c-1.1 0-2 .9-2 2v14c0 1.1.9 2 2 2h14c1.1 0 2-.9 2-2V5c0-1.1-.9-2-2-2zM9 17H7v-7h2v7zm4 0h-2V7h2v10zm4 0h-2v-4h2v4z\"/>\n",
              "    </g>\n",
              "</svg>\n",
              "      </button>\n",
              "\n",
              "<style>\n",
              "  .colab-df-quickchart {\n",
              "      --bg-color: #E8F0FE;\n",
              "      --fill-color: #1967D2;\n",
              "      --hover-bg-color: #E2EBFA;\n",
              "      --hover-fill-color: #174EA6;\n",
              "      --disabled-fill-color: #AAA;\n",
              "      --disabled-bg-color: #DDD;\n",
              "  }\n",
              "\n",
              "  [theme=dark] .colab-df-quickchart {\n",
              "      --bg-color: #3B4455;\n",
              "      --fill-color: #D2E3FC;\n",
              "      --hover-bg-color: #434B5C;\n",
              "      --hover-fill-color: #FFFFFF;\n",
              "      --disabled-bg-color: #3B4455;\n",
              "      --disabled-fill-color: #666;\n",
              "  }\n",
              "\n",
              "  .colab-df-quickchart {\n",
              "    background-color: var(--bg-color);\n",
              "    border: none;\n",
              "    border-radius: 50%;\n",
              "    cursor: pointer;\n",
              "    display: none;\n",
              "    fill: var(--fill-color);\n",
              "    height: 32px;\n",
              "    padding: 0;\n",
              "    width: 32px;\n",
              "  }\n",
              "\n",
              "  .colab-df-quickchart:hover {\n",
              "    background-color: var(--hover-bg-color);\n",
              "    box-shadow: 0 1px 2px rgba(60, 64, 67, 0.3), 0 1px 3px 1px rgba(60, 64, 67, 0.15);\n",
              "    fill: var(--button-hover-fill-color);\n",
              "  }\n",
              "\n",
              "  .colab-df-quickchart-complete:disabled,\n",
              "  .colab-df-quickchart-complete:disabled:hover {\n",
              "    background-color: var(--disabled-bg-color);\n",
              "    fill: var(--disabled-fill-color);\n",
              "    box-shadow: none;\n",
              "  }\n",
              "\n",
              "  .colab-df-spinner {\n",
              "    border: 2px solid var(--fill-color);\n",
              "    border-color: transparent;\n",
              "    border-bottom-color: var(--fill-color);\n",
              "    animation:\n",
              "      spin 1s steps(1) infinite;\n",
              "  }\n",
              "\n",
              "  @keyframes spin {\n",
              "    0% {\n",
              "      border-color: transparent;\n",
              "      border-bottom-color: var(--fill-color);\n",
              "      border-left-color: var(--fill-color);\n",
              "    }\n",
              "    20% {\n",
              "      border-color: transparent;\n",
              "      border-left-color: var(--fill-color);\n",
              "      border-top-color: var(--fill-color);\n",
              "    }\n",
              "    30% {\n",
              "      border-color: transparent;\n",
              "      border-left-color: var(--fill-color);\n",
              "      border-top-color: var(--fill-color);\n",
              "      border-right-color: var(--fill-color);\n",
              "    }\n",
              "    40% {\n",
              "      border-color: transparent;\n",
              "      border-right-color: var(--fill-color);\n",
              "      border-top-color: var(--fill-color);\n",
              "    }\n",
              "    60% {\n",
              "      border-color: transparent;\n",
              "      border-right-color: var(--fill-color);\n",
              "    }\n",
              "    80% {\n",
              "      border-color: transparent;\n",
              "      border-right-color: var(--fill-color);\n",
              "      border-bottom-color: var(--fill-color);\n",
              "    }\n",
              "    90% {\n",
              "      border-color: transparent;\n",
              "      border-bottom-color: var(--fill-color);\n",
              "    }\n",
              "  }\n",
              "</style>\n",
              "\n",
              "      <script>\n",
              "        async function quickchart(key) {\n",
              "          const quickchartButtonEl =\n",
              "            document.querySelector('#' + key + ' button');\n",
              "          quickchartButtonEl.disabled = true;  // To prevent multiple clicks.\n",
              "          quickchartButtonEl.classList.add('colab-df-spinner');\n",
              "          try {\n",
              "            const charts = await google.colab.kernel.invokeFunction(\n",
              "                'suggestCharts', [key], {});\n",
              "          } catch (error) {\n",
              "            console.error('Error during call to suggestCharts:', error);\n",
              "          }\n",
              "          quickchartButtonEl.classList.remove('colab-df-spinner');\n",
              "          quickchartButtonEl.classList.add('colab-df-quickchart-complete');\n",
              "        }\n",
              "        (() => {\n",
              "          let quickchartButtonEl =\n",
              "            document.querySelector('#df-31db5837-c30e-4786-8d6f-4d34153b7fc7 button');\n",
              "          quickchartButtonEl.style.display =\n",
              "            google.colab.kernel.accessAllowed ? 'block' : 'none';\n",
              "        })();\n",
              "      </script>\n",
              "    </div>\n",
              "\n",
              "    </div>\n",
              "  </div>\n"
            ],
            "text/plain": [
              "                                                path  label\n",
              "0  garbage_dataset/Garbage classification/Garbage...      3\n",
              "1  garbage_dataset/Garbage classification/Garbage...      3\n",
              "2  garbage_dataset/Garbage classification/Garbage...      3\n",
              "3  garbage_dataset/Garbage classification/Garbage...      3\n",
              "4  garbage_dataset/Garbage classification/Garbage...      3\n",
              "5  garbage_dataset/Garbage classification/Garbage...      3\n",
              "6  garbage_dataset/Garbage classification/Garbage...      3\n",
              "7  garbage_dataset/Garbage classification/Garbage...      3\n",
              "8  garbage_dataset/Garbage classification/Garbage...      3\n",
              "9  garbage_dataset/Garbage classification/Garbage...      3"
            ]
          },
          "execution_count": 8,
          "metadata": {},
          "output_type": "execute_result"
        }
      ],
      "source": [
        "import pandas as pd\n",
        "\n",
        "dataset = pd.DataFrame({'path':images_paths, 'label':labels})\n",
        "dataset[:10]"
      ]
    },
    {
      "cell_type": "markdown",
      "metadata": {
        "id": "SR1AlDgzNKXD"
      },
      "source": [
        "Successivamente, sono stati divisi i dati in:\n",
        "<ul>\n",
        "<li> training set: 65% dei dati.\n",
        "<li> validation set: 15% dei dati.\n",
        "<li> test set: 20% dei dati.\n",
        "</ul>\n",
        "\n",
        "I dati verranno randomicamente divisi in questi tre set."
      ]
    },
    {
      "cell_type": "code",
      "execution_count": null,
      "metadata": {
        "id": "GhM3oDbjc2V2"
      },
      "outputs": [],
      "source": [
        "from sklearn.model_selection import train_test_split\n",
        "\n",
        "def split_train_val_test(dataset, perc=[0.65, 0.15, 0.2]):\n",
        "    train, testval = train_test_split(dataset, test_size = perc[1]+perc[2])\n",
        "    val, test = train_test_split(testval, test_size = perc[2]/(perc[1]+perc[2]))\n",
        "    return train, val, test"
      ]
    },
    {
      "cell_type": "code",
      "execution_count": null,
      "metadata": {
        "colab": {
          "base_uri": "https://localhost:8080/"
        },
        "id": "3QLq3rcCX6YY",
        "outputId": "ad5ed22a-e97a-4c71-e616-8e9222306309"
      },
      "outputs": [
        {
          "name": "stdout",
          "output_type": "stream",
          "text": [
            "Numero dati di training: 1642\n",
            "Numero dati di validation: 379\n",
            "Numero dati di test: 506\n"
          ]
        }
      ],
      "source": [
        "import numpy as np\n",
        "import random\n",
        "\n",
        "random.seed(123456789)\n",
        "np.random.seed(987654321)\n",
        "train, val, test = split_train_val_test(dataset)\n",
        "\n",
        "print(\"Numero dati di training:\", len(train))\n",
        "print(\"Numero dati di validation:\", len(val))\n",
        "print(\"Numero dati di test:\", len(test))"
      ]
    },
    {
      "cell_type": "markdown",
      "metadata": {
        "id": "ZOT2loQlq82I"
      },
      "source": [
        "Il risultato di questa separazione è stato poi salvato tre file '*.csv*', per un eventuale riutilizzo futuro."
      ]
    },
    {
      "cell_type": "code",
      "execution_count": null,
      "metadata": {
        "id": "gnzaDsxRX7wq"
      },
      "outputs": [],
      "source": [
        "train.to_csv('/content/CSV/train.csv', index=None)\n",
        "val.to_csv('/content/CSV/valid.csv', index=None)\n",
        "test.to_csv('/content/CSV/test.csv', index=None)"
      ]
    },
    {
      "cell_type": "code",
      "execution_count": null,
      "metadata": {
        "id": "t5gwyHbPYBe7"
      },
      "outputs": [],
      "source": [
        "# classes, ids = zip(*class_dict.items())\n",
        "# classes = pd.DataFrame({\n",
        "#     'id': [i for i in ids],\n",
        "#     'class': classes\n",
        "# }).set_index('id')\n",
        "# classes.to_csv('/content/CSV/classes.csv')"
      ]
    },
    {
      "cell_type": "markdown",
      "metadata": {
        "id": "e8KhK036t5sA"
      },
      "source": [
        "Creiamo ora la funzione *CSVImageDataset*, che verrà in seguito utilizzata"
      ]
    },
    {
      "cell_type": "code",
      "execution_count": null,
      "metadata": {
        "id": "j6ylx4TnYa_j"
      },
      "outputs": [],
      "source": [
        "from torch.utils import data\n",
        "from os.path import join\n",
        "from PIL import Image\n",
        "\n",
        "class CSVImageDataset(data.Dataset):\n",
        "    def __init__ (self, data_root, csv, transform = None):\n",
        "        self.data_root = data_root\n",
        "        self.data = pd.read_csv(csv)\n",
        "        self.transform = transform\n",
        "\n",
        "    def __len__(self):\n",
        "        return len(self.data)\n",
        "\n",
        "    def __getitem__(self, i):\n",
        "        image_path, image_label = self.data.iloc[i]['path'], self.data.iloc[i].label\n",
        "        image_label = image_label - 1\n",
        "\n",
        "        images = Image.open(join(self.data_root,image_path)).convert('RGB')\n",
        "        if self.transform is not None:\n",
        "            images = self.transform(images)\n",
        "\n",
        "        return images, image_label"
      ]
    },
    {
      "cell_type": "code",
      "execution_count": null,
      "metadata": {
        "id": "1zSYhJ0yYdE9"
      },
      "outputs": [],
      "source": [
        "# # classes = pd.read_csv('/content/CSV/classes.csv').to_dict()['class']\n",
        "\n",
        "# dataset_train = CSVImageDataset('','/content/CSV/train.csv')\n",
        "# dataset_valid = CSVImageDataset('','/content/CSV/valid.csv')\n",
        "# dataset_test = CSVImageDataset('','/content/CSV/test.csv')\n",
        "\n",
        "# image, label = dataset_train[0]\n",
        "# print('Class id:',label, 'Class name:',classes[label-1])\n",
        "# image"
      ]
    },
    {
      "cell_type": "code",
      "execution_count": null,
      "metadata": {
        "id": "nKvimsX0Yeid"
      },
      "outputs": [],
      "source": [
        "from torchvision import transforms\n",
        "import torch, time\n",
        "\n",
        "train_transform = transforms.Compose([\n",
        "    transforms.Resize(400),\n",
        "    transforms.RandomCrop(384),  #384 perché EfficientNetV2_s é stata allenata su immagini di questa dimensione\n",
        "    transforms.RandomHorizontalFlip(),\n",
        "    transforms.ToTensor(),\n",
        "    transforms.ConvertImageDtype(torch.float),\n",
        "    transforms.Normalize(\n",
        "        mean=[0.485, 0.456, 0.406],\n",
        "        std=[0.229, 0.224, 0.225]\n",
        "    )\n",
        "])\n",
        "\n",
        "#tolto transforms.RandomHorizontalFlip()\n",
        "test_transform = transforms.Compose([\n",
        "    transforms.Resize(400),\n",
        "    transforms.CenterCrop(384),\n",
        "    transforms.ToTensor(),\n",
        "    transforms.Normalize([0.485, 0.456, 0.406], [0.229,0.224,0.225])\n",
        "])"
      ]
    },
    {
      "cell_type": "code",
      "execution_count": null,
      "metadata": {
        "id": "IkjOi-PjYjkL"
      },
      "outputs": [],
      "source": [
        "garbage_train = CSVImageDataset(f'{data_dir}', '/content/CSV/train.csv', transform = train_transform)\n",
        "garbage_valid = CSVImageDataset(f'{data_dir}', '/content/CSV/valid.csv', transform = test_transform)\n",
        "garbage_test = CSVImageDataset(f'{data_dir}','/content/CSV/test.csv', transform = test_transform)"
      ]
    },
    {
      "cell_type": "code",
      "execution_count": null,
      "metadata": {
        "id": "Nio5YxGWYk25"
      },
      "outputs": [],
      "source": [
        "#rivedere size del batch\n",
        "\n",
        "from torch.utils.data import DataLoader\n",
        "\n",
        "garbage_train_loader = DataLoader(garbage_train,  batch_size=32, num_workers=2,  shuffle=True)\n",
        "garbage_valid_loader = DataLoader(garbage_valid,  batch_size=32, num_workers=2)\n",
        "garbage_test_loader = DataLoader(garbage_test, batch_size=32,  num_workers=2)"
      ]
    },
    {
      "cell_type": "code",
      "execution_count": null,
      "metadata": {
        "colab": {
          "base_uri": "https://localhost:8080/"
        },
        "id": "BED-mtRm6NCO",
        "outputId": "3ccb64c6-5e98-4a95-82c8-f9fde4e72204"
      },
      "outputs": [
        {
          "name": "stdout",
          "output_type": "stream",
          "text": [
            "Dispositivo attivo: cuda\n"
          ]
        }
      ],
      "source": [
        "#passa all'uso della GPU\n",
        "\n",
        "device = torch.device(\"cuda\" if torch.cuda.is_available() else \"cpu\")\n",
        "print(\"Dispositivo attivo:\", device)"
      ]
    },
    {
      "cell_type": "code",
      "execution_count": null,
      "metadata": {
        "colab": {
          "base_uri": "https://localhost:8080/",
          "height": 407
        },
        "id": "S63kTTDcT0SZ",
        "outputId": "4a3b9744-195c-4a5a-e72b-7c2615a3592d"
      },
      "outputs": [
        {
          "data": {
            "image/png": "[encoded data removed]",
            "text/plain": [
              "<Figure size 800x400 with 1 Axes>"
            ]
          },
          "metadata": {},
          "output_type": "display_data"
        }
      ],
      "source": [
        "from collections import Counter\n",
        "import matplotlib.pyplot as plt\n",
        "\n",
        "labels = [label for _, label in garbage_train]\n",
        "\n",
        "# Conta le label\n",
        "label_counts = Counter(labels)\n",
        "\n",
        "inv_class_dict = {v-1: k for k, v in class_dict.items()}\n",
        "\n",
        "# Grafico\n",
        "plt.figure(figsize=(8, 4))\n",
        "plt.bar([inv_class_dict[i] for i in sorted(label_counts.keys())],\n",
        "        [label_counts[i] for i in sorted(label_counts.keys())],\n",
        "        color='skyblue')\n",
        "plt.xticks(rotation=45)\n",
        "plt.title('Distribuzione immagini per classe (train set)')\n",
        "plt.tight_layout()\n",
        "plt.show()\n"
      ]
    },
    {
      "cell_type": "code",
      "execution_count": null,
      "metadata": {
        "id": "3S3au_PfPNxZ"
      },
      "outputs": [],
      "source": [
        "#DATA AUGUMENTATION DINAMICA PER CLASSE TRASH\n",
        "from torch.utils.data import Dataset, ConcatDataset, Subset\n",
        "\n",
        "class5_indices = [i for i, (_, label) in enumerate(garbage_train) if label == 5]\n",
        "\n",
        "class5_augmented = Subset(garbage_train, class5_indices)\n",
        "\n",
        "augmented_datasets = [class5_augmented for _ in range(2)]  #CAMBIARE PER AUMENTARE/DIMINUIRE DATI\n",
        "\n",
        "balanced_dataset = ConcatDataset([garbage_train] + augmented_datasets)\n",
        "\n",
        "garbage_train_loader = DataLoader(balanced_dataset, batch_size=32, num_workers=2, shuffle=True, pin_memory=True)\n"
      ]
    },
    {
      "cell_type": "code",
      "execution_count": null,
      "metadata": {
        "colab": {
          "base_uri": "https://localhost:8080/",
          "height": 407
        },
        "id": "h9zbeSaKwgzM",
        "outputId": "bc0bcdbf-82ff-452e-c1bf-d02a11f5a5b4"
      },
      "outputs": [
        {
          "data": {
            "image/png": "[encoded data removed]",
            "text/plain": [
              "<Figure size 800x400 with 1 Axes>"
            ]
          },
          "metadata": {},
          "output_type": "display_data"
        }
      ],
      "source": [
        "labels = [label for _, label in garbage_train_loader.dataset]  # usa __getitem__\n",
        "\n",
        "# Conta le label\n",
        "label_counts = Counter(labels)\n",
        "\n",
        "class_names = garbage_train_loader.dataset.classes if hasattr(garbage_train_loader.dataset, 'classes') else sorted(set(labels))\n",
        "\n",
        "# Grafico\n",
        "plt.figure(figsize=(8, 4))\n",
        "plt.bar([inv_class_dict[i] for i in sorted(label_counts.keys())],\n",
        "        [label_counts[i] for i in sorted(label_counts.keys())],\n",
        "        color='skyblue')\n",
        "plt.xticks(rotation=45)\n",
        "plt.title('Distribuzione immagini per classe (train set) dopo data augumentation')\n",
        "plt.tight_layout()\n",
        "plt.show()\n"
      ]
    },
    {
      "cell_type": "code",
      "execution_count": null,
      "metadata": {
        "colab": {
          "base_uri": "https://localhost:8080/"
        },
        "id": "-uxoNinwYmlf",
        "outputId": "23426e02-fdc0-470e-f0f5-47f84144a7a2"
      },
      "outputs": [
        {
          "name": "stderr",
          "output_type": "stream",
          "text": [
            "Downloading: \"https://download.pytorch.org/models/efficientnet_v2_s-dd5fe13b.pth\" to /root/.cache/torch/hub/checkpoints/efficientnet_v2_s-dd5fe13b.pth\n",
            "100%|██████████| 82.7M/82.7M [00:00<00:00, 163MB/s]\n"
          ]
        },
        {
          "name": "stdout",
          "output_type": "stream",
          "text": [
            "6\n"
          ]
        }
      ],
      "source": [
        "from torchvision.models import efficientnet_v2_s, EfficientNet_V2_S_Weights\n",
        "import timm, torch.nn as nn\n",
        "\n",
        "weights = EfficientNet_V2_S_Weights.DEFAULT\n",
        "model = efficientnet_v2_s(weights=weights)\n",
        "num_classes = len(class_dict)\n",
        "print(num_classes)\n",
        "model.classifier[1] = nn.Linear(\n",
        "        in_features = model.classifier[1].in_features,\n",
        "        out_features = num_classes)\n"
      ]
    },
    {
      "cell_type": "code",
      "execution_count": null,
      "metadata": {
        "id": "TUSIgjLgL4iS"
      },
      "outputs": [],
      "source": [
        "from torch.optim import SGD\n",
        "\n",
        "def train_validate(model, garbage_train_loader, garbage_valid_loader,\n",
        "                   epochs=5, lr=1e-3, momentum=0.9,\n",
        "                   device=None, log_every=50,\n",
        "                   resume_from=None):\n",
        "\n",
        "    device = device or ('cuda' if torch.cuda.is_available() else 'cpu')\n",
        "    model.to(device)\n",
        "\n",
        "    criterion = nn.CrossEntropyLoss()\n",
        "    optimizer = SGD(model.parameters(), lr=lr, momentum=momentum)\n",
        "    best_val_acc = 0\n",
        "    best_val_loss = 1\n",
        "\n",
        "    start_epoch = 1\n",
        "\n",
        "    patience = 5\n",
        "    patience_counter = 0\n",
        "\n",
        "    # Riprendi da checkpoint se fornito\n",
        "    if resume_from:\n",
        "        checkpoint = torch.load(resume_from)\n",
        "        model.load_state_dict(checkpoint['model_state_dict'])\n",
        "        optimizer.load_state_dict(checkpoint['optimizer_state_dict'])\n",
        "        start_epoch = checkpoint['epoch'] + 1\n",
        "        best_val_acc = checkpoint.get('best_val_acc', 0)\n",
        "        print(f\"Ripreso da: {resume_from} | epoca {start_epoch} | best_acc: {best_val_acc:.3f}\")\n",
        "\n",
        "    num_model_classes = model.classifier[-1].out_features\n",
        "    save_dir = '/content/drive/MyDrive/modelli_garbage'\n",
        "    os.makedirs(save_dir, exist_ok=True)\n",
        "\n",
        "    for ep in range(start_epoch, epochs + 1):\n",
        "        model.train()\n",
        "        running_loss, running_acc, seen = 0, 0, 0\n",
        "        t0 = time.time()\n",
        "\n",
        "        for step, (x, y) in enumerate(garbage_train_loader, 1):\n",
        "            x = x.to(device)\n",
        "            y = y.to(device)\n",
        "\n",
        "            if step == 1 and ep == 1:\n",
        "                print(f\"Label originali: min={y.min()}, max={y.max()}, unique={torch.unique(y)}\")\n",
        "                print(f\"Numero classi modello: {num_model_classes}\")\n",
        "\n",
        "            assert y.min() >= 0, f\"Label negativa: {y.min()}\"\n",
        "            assert y.max() < num_model_classes, f\"Label {y.max()} >= num_classes {num_model_classes}\"\n",
        "\n",
        "            optimizer.zero_grad()\n",
        "            out = model(x)\n",
        "            loss = criterion(out, y)\n",
        "            loss.backward()\n",
        "            optimizer.step()\n",
        "\n",
        "            n = x.size(0)\n",
        "            running_loss += loss.item() * n\n",
        "            running_acc  += (out.argmax(1) == y).sum().item()\n",
        "            seen += n\n",
        "\n",
        "            if step % log_every == 0:\n",
        "                print(f'Epoch {ep} | step {step}/{len(garbage_train_loader)} '\n",
        "                      f'loss {running_loss/seen:.4f} acc {running_acc/seen:.3f}')\n",
        "\n",
        "        # VALIDAZIONE\n",
        "        model.eval()\n",
        "        val_loss, val_acc, seen = 0, 0, 0\n",
        "        with torch.no_grad():\n",
        "            for x, y in garbage_valid_loader:\n",
        "                x, y = x.to(device), y.to(device)\n",
        "                if y.min() > 0:\n",
        "                    y = y - 1\n",
        "\n",
        "                out = model(x)\n",
        "                val_loss += criterion(out, y).item() * x.size(0)\n",
        "                val_acc  += (out.argmax(1) == y).sum().item()\n",
        "                seen += x.size(0)\n",
        "\n",
        "        val_loss /= seen\n",
        "        val_acc  /= seen\n",
        "        dt = time.time() - t0\n",
        "        print(f'- Epoch {ep} done in {dt:.1f}s | val_loss {val_loss:.4f} val_acc {val_acc:.3f}')\n",
        "\n",
        "        #SALVA MIGLIOR MODELLO\n",
        "        if val_acc > best_val_acc:\n",
        "            best_val_acc = val_acc\n",
        "            patience_counter = 0\n",
        "            torch.save({\n",
        "                'epoch': ep,\n",
        "                'model_state_dict': model.state_dict(),\n",
        "                'optimizer_state_dict': optimizer.state_dict(),\n",
        "                'best_val_acc': best_val_acc,\n",
        "                'loss': val_loss\n",
        "            }, f'{save_dir}/best_model.pt')\n",
        "            print('  ✓ checkpoint salvato (miglior modello)')\n",
        "        else:\n",
        "            patience_counter += 1\n",
        "            print(f\"- Early stopping counter: {patience_counter}/{patience}\")\n",
        "            if patience_counter >= patience:\n",
        "                print(\"Early stopping attivato.\")\n",
        "                break\n",
        "\n",
        "        #SALVA OGNI 2 EPOCHE PERCHE VOLEVO PROVARE MA DA MODIFICARE\n",
        "        if ep % 2 == 0:\n",
        "            torch.save({\n",
        "                'epoch': ep,\n",
        "                'model_state_dict': model.state_dict(),\n",
        "                'optimizer_state_dict': optimizer.state_dict(),\n",
        "                'best_val_acc': best_val_acc,\n",
        "                'loss': val_loss\n",
        "            }, f'{save_dir}/checkpoint_epoch{ep}.pth')\n",
        "            print(f' checkpoint completo salvato: checkpoint_epoch{ep}.pth')\n",
        "\n",
        "    print('Miglior accuratezza validazione:', best_val_acc)\n",
        "    return model\n"
      ]
    },
    {
      "cell_type": "code",
      "execution_count": null,
      "metadata": {
        "colab": {
          "base_uri": "https://localhost:8080/"
        },
        "id": "iRqUr61Do4lB",
        "outputId": "7d5f984e-bdcb-4512-fcbb-580bea03373a"
      },
      "outputs": [
        {
          "name": "stdout",
          "output_type": "stream",
          "text": [
            "Ripreso da: /content/drive/MyDrive/modelli_garbage/checkpoint_epoch10.pth | epoca 11 | best_acc: 0.931\n",
            "Epoch 11 | step 50/57 loss 0.0894 acc 0.980\n",
            "- Epoch 11 done in 104.7s | val_loss 0.2520 val_acc 0.929\n",
            "- Early stopping counter: 1/3\n",
            "Epoch 12 | step 50/57 loss 0.0711 acc 0.982\n",
            "- Epoch 12 done in 65.3s | val_loss 0.2661 val_acc 0.918\n",
            "- Early stopping counter: 2/3\n",
            " checkpoint completo salvato: checkpoint_epoch12.pth\n",
            "Epoch 13 | step 50/57 loss 0.0576 acc 0.986\n",
            "- Epoch 13 done in 68.9s | val_loss 0.2662 val_acc 0.929\n",
            "- Early stopping counter: 3/3\n",
            "Early stopping attivato.\n",
            "Miglior accuratezza validazione: 0.9313984168865436\n"
          ]
        }
      ],
      "source": [
        "os.environ[\"CUDA_LAUNCH_BLOCKING\"] = \"1\"\n",
        "device = 'cuda' if torch.cuda.is_available() else 'cpu'\n",
        "trained_model = train_validate(\n",
        "        model,\n",
        "        garbage_train_loader = garbage_train_loader,\n",
        "        garbage_valid_loader = garbage_valid_loader,\n",
        "        epochs       = 20,\n",
        "        lr           = 1e-3,\n",
        "        momentum     = 0.9,\n",
        "        device       = device,\n",
        "        log_every    = 50,\n",
        "        resume_from='/content/drive/MyDrive/modelli_garbage/checkpoint_epoch10.pth'\n",
        ")"
      ]
    },
    {
      "cell_type": "code",
      "execution_count": null,
      "metadata": {
        "colab": {
          "base_uri": "https://localhost:8080/",
          "height": 35
        },
        "id": "vwRd7UZT-GCn",
        "outputId": "3e5ace12-b1ce-4c6a-f3cf-aa67b108e100"
      },
      "outputs": [
        {
          "name": "stdout",
          "output_type": "stream",
          "text": [
            " Modello salvato localmente in /content/efficientnet_garbage.pth\n"
          ]
        },
        {
          "data": {
            "application/javascript": "\n    async function download(id, filename, size) {\n      if (!google.colab.kernel.accessAllowed) {\n        return;\n      }\n      const div = document.createElement('div');\n      const label = document.createElement('label');\n      label.textContent = `Downloading \"${filename}\": `;\n      div.appendChild(label);\n      const progress = document.createElement('progress');\n      progress.max = size;\n      div.appendChild(progress);\n      document.body.appendChild(div);\n\n      const buffers = [];\n      let downloaded = 0;\n\n      const channel = await google.colab.kernel.comms.open(id);\n      // Send a message to notify the kernel that we're ready.\n      channel.send({})\n\n      for await (const message of channel.messages) {\n        // Send a message to notify the kernel that we're ready.\n        channel.send({})\n        if (message.buffers) {\n          for (const buffer of message.buffers) {\n            buffers.push(buffer);\n            downloaded += buffer.byteLength;\n            progress.value = downloaded;\n          }\n        }\n      }\n      const blob = new Blob(buffers, {type: 'application/binary'});\n      const a = document.createElement('a');\n      a.href = window.URL.createObjectURL(blob);\n      a.download = filename;\n      div.appendChild(a);\n      a.click();\n      div.remove();\n    }\n  ",
            "text/plain": [
              "<IPython.core.display.Javascript object>"
            ]
          },
          "metadata": {},
          "output_type": "display_data"
        },
        {
          "data": {
            "application/javascript": "download(\"download_0541f35e-f2cf-40fa-846d-c9a723440597\", \"efficientnet_garbage.pth\", 81638976)",
            "text/plain": [
              "<IPython.core.display.Javascript object>"
            ]
          },
          "metadata": {},
          "output_type": "display_data"
        }
      ],
      "source": [
        "#  SALVA E SCARICA IL MODELLO DA COLAB\n",
        "\n",
        "torch.save(model.state_dict(), '/content/efficientnet_garbage.pth')\n",
        "print(\" Modello salvato localmente in /content/efficientnet_garbage.pth\")\n",
        "\n",
        "from google.colab import files\n",
        "files.download('/content/efficientnet_garbage.pth')\n"
      ]
    },
    {
      "cell_type": "code",
      "execution_count": null,
      "metadata": {
        "id": "c_46bTD1o4lB"
      },
      "outputs": [],
      "source": [
        "# import torch.optim as optim\n",
        "# from torch.nn import CrossEntropyLoss\n",
        "from sklearn.metrics import accuracy_score, precision_score, recall_score, f1_score, confusion_matrix, classification_report\n",
        "\n",
        "def evaluate(model, loader, device=None, target_names=None):\n",
        "    device = device or ('cuda' if torch.cuda.is_available() else 'cpu')\n",
        "    model.eval().to(device)\n",
        "    # correct = 0\n",
        "    # total = 0\n",
        "    all_preds = []\n",
        "    all_labels = []\n",
        "    with torch.no_grad():\n",
        "        for images, labels in loader:\n",
        "            images, labels = images.to(device), labels.to(device)\n",
        "            outputs = model(images).argmax(1)\n",
        "            # _, preds = torch.max(outputs, 1)\n",
        "            # correct += (outputs == labels).sum().item()\n",
        "            # total += labels.size(0)\n",
        "            all_preds.extend(outputs.cpu().numpy())\n",
        "            all_labels.extend(labels.cpu().numpy())\n",
        "    # Calcolo metriche\n",
        "    acc = accuracy_score(all_labels, all_preds)\n",
        "    prec = precision_score(all_labels, all_preds, average='weighted', zero_division=0)\n",
        "    rec = recall_score(all_labels, all_preds, average='weighted', zero_division=0)\n",
        "    f1 = f1_score(all_labels, all_preds, average='weighted', zero_division=0)\n",
        "    cm = confusion_matrix(all_labels, all_preds)\n",
        "\n",
        "    print(f\"Accuracy     : {acc:.4f}\")\n",
        "    print(f\"Precision    : {prec:.4f}\")\n",
        "    print(f\"Recall       : {rec:.4f}\")\n",
        "    print(f\"F1 Score     : {f1:.4f}\")\n",
        "    print(\"\\n Confusion Matrix:\")\n",
        "    print(cm)\n",
        "\n",
        "    # Report dettagliato (opzionale)\n",
        "    if target_names:\n",
        "        print(\"\\n Classification Report:\")\n",
        "        print(classification_report(all_labels, all_preds, target_names=target_names))\n",
        "\n",
        "    return acc, prec, rec, f1, cm\n",
        "\n",
        "# acc = evaluate(model, garbage_valid_loader)\n",
        "# print(f'Validation Accuracy: {acc:.4f}')\n",
        "# model.load_state_dict(torch.load('best_model.pt'))\n",
        "# evaluate(model, garbage_test_loader)\n"
      ]
    },
    {
      "cell_type": "code",
      "execution_count": null,
      "metadata": {
        "colab": {
          "base_uri": "https://localhost:8080/"
        },
        "id": "GGQKFfYKPFbO",
        "outputId": "a2a617d7-f8dc-4ce1-9578-d25e85e44777"
      },
      "outputs": [
        {
          "name": "stdout",
          "output_type": "stream",
          "text": [
            "Accuracy     : 0.9249\n",
            "Precision    : 0.9256\n",
            "Recall       : 0.9249\n",
            "F1 Score     : 0.9251\n",
            "\n",
            " Confusion Matrix:\n",
            "[[ 82   0   0   5   2   0]\n",
            " [  0 118   1   0   0   3]\n",
            " [  0   3  84   1   0   0]\n",
            " [  8   1   0  84   3   1]\n",
            " [  1   0   0   5  75   1]\n",
            " [  0   0   0   1   2  25]]\n",
            "\n",
            " Classification Report:\n",
            "              precision    recall  f1-score   support\n",
            "\n",
            "       glass       0.90      0.92      0.91        89\n",
            "       paper       0.97      0.97      0.97       122\n",
            "   cardboard       0.99      0.95      0.97        88\n",
            "     plastic       0.88      0.87      0.87        97\n",
            "       metal       0.91      0.91      0.91        82\n",
            "       trash       0.83      0.89      0.86        28\n",
            "\n",
            "    accuracy                           0.92       506\n",
            "   macro avg       0.91      0.92      0.92       506\n",
            "weighted avg       0.93      0.92      0.93       506\n",
            "\n"
          ]
        }
      ],
      "source": [
        "checkpoint = torch.load('/content/drive/MyDrive/modelli_garbage/best_model.pt')\n",
        "model.load_state_dict(checkpoint['model_state_dict'])\n",
        "# ho cambiato perché non mi workava\n",
        "\n",
        "# model.load_state_dict(torch.load('/content/drive/MyDrive/modelli_garbage/best_model.pt'))\n",
        "acc, prec, rec, f1, cm = evaluate(model, garbage_test_loader, target_names=['glass', 'paper', 'cardboard', 'plastic', 'metal', 'trash'])\n"
      ]
    },
    {
      "cell_type": "code",
      "execution_count": null,
      "metadata": {
        "id": "PtmAsQ-CQFuN"
      },
      "outputs": [],
      "source": [
        "# Visualizziamo la Confusion Matrix\n",
        "import seaborn as sns\n",
        "import matplotlib.pyplot as plt\n",
        "\n",
        "from sklearn.metrics import confusion_matrix\n",
        "\n",
        "def plot_confusion_matrix(model, loader, class_names, device=None):\n",
        "    device = device or ('cuda' if torch.cuda.is_available() else 'cpu')\n",
        "    model.eval().to(device)\n",
        "\n",
        "    all_preds = []\n",
        "    all_labels = []\n",
        "\n",
        "    with torch.no_grad():\n",
        "        for images, labels in loader:\n",
        "            images, labels = images.to(device), labels.to(device)\n",
        "            outputs = model(images).argmax(1)\n",
        "            all_preds.extend(outputs.cpu().numpy())\n",
        "            all_labels.extend(labels.cpu().numpy())\n",
        "\n",
        "    cm = confusion_matrix(all_labels, all_preds)\n",
        "\n",
        "    plt.figure(figsize=(8, 6))\n",
        "    sns.heatmap(cm, annot=True, fmt='d', cmap='Blues',\n",
        "                xticklabels=class_names,\n",
        "                yticklabels=class_names)\n",
        "    plt.xlabel('Predicted Label')\n",
        "    plt.ylabel('True Label')\n",
        "    plt.title('Confusion Matrix')\n",
        "    plt.tight_layout()\n",
        "    plt.show()\n"
      ]
    },
    {
      "cell_type": "code",
      "execution_count": null,
      "metadata": {
        "id": "hIzJY0I-D8H0"
      },
      "outputs": [],
      "source": [
        "def plot_metrics_bar(acc, prec, rec, f1):\n",
        "    import matplotlib.pyplot as plt\n",
        "\n",
        "    metrics = ['Accuracy', 'Precision', 'Recall', 'F1 Score']\n",
        "    values = [acc, prec, rec, f1]\n",
        "\n",
        "    plt.figure(figsize=(6, 4))\n",
        "    bars = plt.bar(metrics, values, color=['#4CAF50', '#2196F3', '#FFC107', '#F44336'])\n",
        "    plt.ylim(0, 1)\n",
        "    plt.title('Altre metriche di classificazione')\n",
        "    for bar in bars:\n",
        "        yval = bar.get_height()\n",
        "        plt.text(bar.get_x() + bar.get_width()/2 - 0.1, yval + 0.02, f\"{yval:.2f}\", fontsize=10)\n",
        "    plt.tight_layout()\n",
        "    plt.show()\n"
      ]
    },
    {
      "cell_type": "code",
      "execution_count": null,
      "metadata": {
        "colab": {
          "base_uri": "https://localhost:8080/",
          "height": 997
        },
        "id": "pPFRy3WZQKCq",
        "outputId": "84da7adc-7aa3-4ad1-f2b9-75700de961c2"
      },
      "outputs": [
        {
          "data": {
            "image/png": "[encoded data removed]",
            "text/plain": [
              "<Figure size 800x600 with 2 Axes>"
            ]
          },
          "metadata": {},
          "output_type": "display_data"
        },
        {
          "data": {
            "image/png": "[encoded data removed]",
            "text/plain": [
              "<Figure size 600x400 with 1 Axes>"
            ]
          },
          "metadata": {},
          "output_type": "display_data"
        }
      ],
      "source": [
        "plot_confusion_matrix(model, garbage_test_loader, class_names=['glass', 'paper', 'cardboard', 'plastic', 'metal', 'trash'])\n",
        "\n",
        "plot_metrics_bar(acc, prec, rec, f1)"
      ]
    },
    {
      "cell_type": "code",
      "execution_count": null,
      "metadata": {
        "colab": {
          "base_uri": "https://localhost:8080/",
          "height": 886
        },
        "id": "DCpdJreMefW7",
        "outputId": "0bb159fa-f855-4466-e2cb-c2277e1faa3a"
      },
      "outputs": [
        {
          "name": "stdout",
          "output_type": "stream",
          "text": [
            "✓ Modello caricato da: /content/drive/MyDrive/modelli_garbage/best_model.pt\n",
            "\n",
            " Accuracy sul validation set: 0.9249\n",
            "\n",
            "Classification Report:\n",
            "              precision    recall  f1-score   support\n",
            "\n",
            "       glass       0.90      0.92      0.91        89\n",
            "       paper       0.97      0.97      0.97       122\n",
            "   cardboard       0.99      0.95      0.97        88\n",
            "     plastic       0.88      0.87      0.87        97\n",
            "       metal       0.91      0.91      0.91        82\n",
            "       trash       0.83      0.89      0.86        28\n",
            "\n",
            "    accuracy                           0.92       506\n",
            "   macro avg       0.91      0.92      0.92       506\n",
            "weighted avg       0.93      0.92      0.93       506\n",
            "\n"
          ]
        },
        {
          "data": {
            "image/png": "[encoded data removed]",
            "text/plain": [
              "<Figure size 800x600 with 2 Axes>"
            ]
          },
          "metadata": {},
          "output_type": "display_data"
        }
      ],
      "source": [
        "# import torch\n",
        "# import torch.nn as nn\n",
        "# from sklearn.metrics import classification_report, confusion_matrix\n",
        "# import matplotlib.pyplot as plt\n",
        "# import seaborn as sns\n",
        "# import numpy as np\n",
        "# import os\n",
        "\n",
        "def test_model(model, dataloader, checkpoint_path, device=None, class_names=None):\n",
        "    device = device or ('cuda' if torch.cuda.is_available() else 'cpu')\n",
        "    model.to(device)\n",
        "    model.eval()\n",
        "\n",
        "    if not os.path.exists(checkpoint_path):\n",
        "        raise FileNotFoundError(f\"Checkpoint non trovato: {checkpoint_path}\")\n",
        "\n",
        "    # Carica stato del modello\n",
        "    checkpoint = torch.load(checkpoint_path, map_location=device)\n",
        "    model.load_state_dict(checkpoint['model_state_dict'])\n",
        "    print(f\"✓ Modello caricato da: {checkpoint_path}\")\n",
        "\n",
        "    all_preds = []\n",
        "    all_labels = []\n",
        "\n",
        "    with torch.no_grad():\n",
        "        for x, y in dataloader:\n",
        "            x, y = x.to(device), y.to(device)\n",
        "            out = model(x)\n",
        "            preds = out.argmax(1)\n",
        "            all_preds.extend(preds.cpu().numpy())\n",
        "            all_labels.extend(y.cpu().numpy())\n",
        "\n",
        "    all_preds = np.array(all_preds)\n",
        "    all_labels = np.array(all_labels)\n",
        "\n",
        "    acc = (all_preds == all_labels).mean()\n",
        "    print(f\"\\n Accuracy sul validation set: {acc:.4f}\\n\")\n",
        "\n",
        "    # Class names\n",
        "    if class_names is None:\n",
        "        class_names = [str(i) for i in sorted(set(all_labels))]\n",
        "\n",
        "    # Report\n",
        "    print(\"Classification Report:\")\n",
        "    print(classification_report(all_labels, all_preds, target_names=class_names))\n",
        "\n",
        "    # Confusion Matrix\n",
        "    cm = confusion_matrix(all_labels, all_preds)\n",
        "    plt.figure(figsize=(8, 6))\n",
        "    sns.heatmap(cm, annot=True, fmt='d', cmap='Blues',\n",
        "                xticklabels=class_names, yticklabels=class_names)\n",
        "    plt.xlabel('Predetto')\n",
        "    plt.ylabel('Reale')\n",
        "    plt.title('Matrice di Confusione')\n",
        "    plt.show()\n",
        "\n",
        "# ESEMPIO DI USO (modifica se usi altro modello/checkpoint)\n",
        "from torchvision.models import efficientnet_v2_s, EfficientNet_V2_S_Weights\n",
        "\n",
        "# Carica il modello con pesi base\n",
        "model = efficientnet_v2_s(weights=EfficientNet_V2_S_Weights.DEFAULT)\n",
        "num_classes = 6\n",
        "model.classifier[-1] = nn.Linear(model.classifier[-1].in_features, num_classes)\n",
        "\n",
        "# Path al checkpoint migliore\n",
        "best_model_path = '/content/drive/MyDrive/modelli_garbage/best_model.pt'\n",
        "\n",
        "# Nomi delle classi (ordinati secondo label numerici)\n",
        "class_names = ['glass', 'paper', 'cardboard', 'plastic', 'metal', 'trash']\n",
        "\n",
        "# Avvia il test\n",
        "test_model(model, garbage_test_loader, best_model_path, class_names=class_names)\n"
      ]
    },
    {
      "cell_type": "code",
      "execution_count": null,
      "metadata": {
        "id": "MfgKoY9HSh2a"
      },
      "outputs": [],
      "source": []
    }
  ],
  "metadata": {
    "accelerator": "GPU",
    "colab": {
      "gpuType": "T4",
      "provenance": []
    },
    "kernelspec": {
      "display_name": "Python 3",
      "name": "python3"
    },
    "language_info": {
      "name": "python"
    }
  },
  "nbformat": 4,
  "nbformat_minor": 0
}
